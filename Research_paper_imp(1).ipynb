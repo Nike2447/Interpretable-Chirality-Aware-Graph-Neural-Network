{
  "cells": [
    {
      "cell_type": "code",
      "execution_count": null,
      "metadata": {
        "id": "Kzn3XxX4tn5k"
      },
      "outputs": [],
      "source": [
        "!pip install torch_geometric"
      ]
    },
    {
      "cell_type": "markdown",
      "metadata": {
        "id": "jLpRdFMe-xFD"
      },
      "source": [
        "Example GNN\n"
      ]
    },
    {
      "cell_type": "code",
      "execution_count": null,
      "metadata": {
        "colab": {
          "base_uri": "https://localhost:8080/"
        },
        "id": "r5Gn0TMxtYRL",
        "outputId": "b328fc7f-adf5-49c3-a7d4-9bd4b0aff94f"
      },
      "outputs": [
        {
          "name": "stdout",
          "output_type": "stream",
          "text": [
            "input tensor :  tensor([[[-0.9524, -0.0758,  0.8532,  1.7434,  1.7795,  0.2334, -0.5834,\n",
            "           0.0633, -1.1169, -0.4206],\n",
            "         [-0.6356,  1.2112, -0.9032,  0.2530,  1.6643, -1.0396,  0.1481,\n",
            "          -1.3958, -0.1869, -0.2056],\n",
            "         [-1.7346, -0.5675,  0.8660,  0.0933, -1.5062,  0.4891, -0.2778,\n",
            "           1.1248, -0.0449, -0.7484],\n",
            "         [-0.9029, -0.0899, -0.9800, -1.1397,  0.1863, -0.6732,  1.1017,\n",
            "          -1.0559, -0.6244,  1.2752],\n",
            "         [ 2.3783, -0.4395,  1.0045,  2.4372,  0.0658,  1.0720, -0.4393,\n",
            "          -1.0880,  0.3540,  0.6429]]])\n",
            "Output shape: torch.Size([1, 5, 30])\n",
            "Output tensor :  tensor([[[0.0000, 2.0330, 4.0297, 0.0000, 0.0000, 0.0000, 0.0000, 0.0000,\n",
            "          0.0508, 1.5602, 0.0000, 1.6256, 0.0000, 5.9978, 3.5842, 0.1032,\n",
            "          0.8570, 1.1670, 0.2864, 0.0000, 0.0000, 0.0000, 0.0000, 0.0000,\n",
            "          0.0000, 0.0000, 3.2850, 0.0000, 0.0070, 0.0000],\n",
            "         [0.0000, 2.0330, 4.0297, 0.0000, 0.0000, 0.0000, 0.0000, 0.0000,\n",
            "          0.0508, 1.5602, 0.0000, 1.6256, 0.0000, 5.9978, 3.5842, 0.1032,\n",
            "          0.8570, 1.1670, 0.2864, 0.0000, 0.0000, 0.0000, 0.0000, 0.0000,\n",
            "          0.0000, 0.0000, 3.2850, 0.0000, 0.0070, 0.0000],\n",
            "         [0.0000, 2.0330, 4.0297, 0.0000, 0.0000, 0.0000, 0.0000, 0.0000,\n",
            "          0.0508, 1.5602, 0.0000, 1.6256, 0.0000, 5.9978, 3.5842, 0.1032,\n",
            "          0.8570, 1.1670, 0.2864, 0.0000, 0.0000, 0.0000, 0.0000, 0.0000,\n",
            "          0.0000, 0.0000, 3.2850, 0.0000, 0.0070, 0.0000],\n",
            "         [0.0000, 2.0330, 4.0297, 0.0000, 0.0000, 0.0000, 0.0000, 0.0000,\n",
            "          0.0508, 1.5602, 0.0000, 1.6256, 0.0000, 5.9978, 3.5842, 0.1032,\n",
            "          0.8570, 1.1670, 0.2864, 0.0000, 0.0000, 0.0000, 0.0000, 0.0000,\n",
            "          0.0000, 0.0000, 3.2850, 0.0000, 0.0070, 0.0000],\n",
            "         [0.0000, 2.0330, 4.0297, 0.0000, 0.0000, 0.0000, 0.0000, 0.0000,\n",
            "          0.0508, 1.5602, 0.0000, 1.6256, 0.0000, 5.9978, 3.5842, 0.1032,\n",
            "          0.8570, 1.1670, 0.2864, 0.0000, 0.0000, 0.0000, 0.0000, 0.0000,\n",
            "          0.0000, 0.0000, 3.2850, 0.0000, 0.0070, 0.0000]]],\n",
            "       grad_fn=<ReluBackward0>)\n"
          ]
        }
      ],
      "source": [
        "import torch\n",
        "import torch.nn as nn\n",
        "import torch.nn.functional as F\n",
        "import torch.optim as optim\n",
        "\n",
        "class GraphConvolutionLayer(nn.Module):\n",
        "    def __init__(self, input_dim, output_dim):\n",
        "        super(GraphConvolutionLayer, self).__init__()\n",
        "        self.linear = nn.Linear(input_dim, output_dim)\n",
        "\n",
        "    def forward(self, x, adj_matrix):\n",
        "        aggregated = torch.bmm(adj_matrix, x)\n",
        "\n",
        "        output = self.linear(aggregated)\n",
        "\n",
        "        output = F.relu(output)\n",
        "\n",
        "        return output\n",
        "\n",
        "class SimpleGraphNeuralNetwork(nn.Module):\n",
        "    def __init__(self, input_dim, hidden_dim, output_dim):\n",
        "        super(SimpleGraphNeuralNetwork, self).__init__()\n",
        "        self.conv1 = GraphConvolutionLayer(input_dim, hidden_dim)\n",
        "        self.conv2 = GraphConvolutionLayer(hidden_dim, output_dim)\n",
        "\n",
        "    def forward(self, x, adj_matrix):\n",
        "        x = self.conv1(x, adj_matrix)\n",
        "        x = self.conv2(x, adj_matrix)\n",
        "        return x\n",
        "\n",
        "batch_size = 1\n",
        "num_nodes = 5\n",
        "input_dim = 10\n",
        "hidden_dim = 20\n",
        "output_dim = 30\n",
        "\n",
        "\n",
        "x = torch.randn(batch_size, num_nodes, input_dim)\n",
        "print(\"input tensor : \",x)\n",
        "adj_matrix = torch.ones(batch_size, num_nodes, num_nodes)\n",
        "\n",
        "model = SimpleGraphNeuralNetwork(input_dim, hidden_dim, output_dim)\n",
        "\n",
        "output = model(x, adj_matrix)\n",
        "\n",
        "print(\"Output shape:\", output.shape)\n",
        "print(\"Output tensor : \",output)\n"
      ]
    },
    {
      "cell_type": "markdown",
      "metadata": {
        "id": "-DzXZ9gq14xY"
      },
      "source": []
    },
    {
      "cell_type": "markdown",
      "metadata": {
        "id": "LmmbwIbsyIBj"
      },
      "source": [
        "**Implementation**"
      ]
    },
    {
      "cell_type": "code",
      "execution_count": null,
      "metadata": {
        "id": "oyF_t6AxvRmU"
      },
      "outputs": [],
      "source": [
        "import torch\n",
        "import torch.nn as nn\n",
        "import torch.nn.functional as F\n",
        "import torch.nn.init as init\n",
        "\n",
        "class MolKGNN(nn.Module):\n",
        "    def __init__(self, num_node_features, num_kernels, hidden_dim):\n",
        "        super(MolKGNN, self).__init__()\n",
        "        self.conv1 = MolConv(num_node_features, hidden_dim, num_kernels)\n",
        "        self.conv2 = MolConv(hidden_dim * num_kernels, hidden_dim, num_kernels)\n",
        "        self.lin1 = nn.Linear(hidden_dim * num_kernels, hidden_dim)\n",
        "        self.lin2 = nn.Linear(hidden_dim, 1)\n",
        "\n",
        "    def forward(self, x, edge_index):\n",
        "        x = F.relu(self.conv1(x, edge_index))\n",
        "        x = F.relu(self.conv2(x, edge_index))\n",
        "        x = torch.sum(x, dim=1)\n",
        "        x = F.relu(self.lin1(x))\n",
        "        x = self.lin2(x)\n",
        "        x = torch.sigmoid(x)\n",
        "        return x\n",
        "\n",
        "class MolConv(nn.Module):\n",
        "    def __init__(self, in_channels, out_channels, num_kernels):\n",
        "        super(MolConv, self).__init__()\n",
        "        self.in_channels = in_channels\n",
        "        self.out_channels = out_channels\n",
        "        self.num_kernels = num_kernels\n",
        "        self.kernels = nn.Parameter(torch.Tensor(num_kernels, in_channels + 1))\n",
        "        init.xavier_uniform_(self.kernels)\n",
        "\n",
        "    def forward(self, x, edge_index):\n",
        "\n",
        "        assert x.size(1) == self.in_channels, \"Input feature dimensions must match in_channels.\"\n",
        "        assert edge_index.size(1) == 2, \"Edge index must be a 2D tensor with shape (2, num_edges).\"\n",
        "\n",
        "        row, col = edge_index\n",
        "        x_row = x[row].repeat_interleave(self.num_kernels, dim=0)\n",
        "        x_col = x[col].repeat_interleave(self.num_kernels, dim=0)\n",
        "        central_sim = torch.cosine_similarity(x_row, self.kernels[:, :-1], dim=-1)\n",
        "        neighbor_sim = torch.cosine_similarity(x_col, self.kernels[:, -1:], dim=-1)\n",
        "        sim = central_sim + neighbor_sim\n",
        "\n",
        "        return torch.cat([sim[:, k:k+1] * x for k in range(self.num_kernels)], dim=-1)"
      ]
    },
    {
      "cell_type": "code",
      "execution_count": null,
      "metadata": {
        "colab": {
          "base_uri": "https://localhost:8080/"
        },
        "id": "KE9u_gZ6wfIk",
        "outputId": "a3203693-4eb2-4ca9-d09d-cc9dcbf87519"
      },
      "outputs": [
        {
          "name": "stdout",
          "output_type": "stream",
          "text": [
            "Data(x=[5, 3], edge_index=[2, 5], y=[1])\n"
          ]
        }
      ],
      "source": [
        "import torch\n",
        "from torch_geometric.data import Data\n",
        "\n",
        "\n",
        "x = torch.tensor([[6, 0, 0], [1, 0, 0], [8, 0, 1], [6, 0, 0], [1, 0, 0]], dtype=torch.float)\n",
        "edge_index = torch.tensor([[0, 0, 2, 3, 3], [2, 3, 3, 4, 4]], dtype=torch.long)\n",
        "y = torch.tensor([1], dtype=torch.float)\n",
        "\n",
        "\n",
        "data = Data(x=x, edge_index=edge_index, y=y)\n",
        "\n",
        "\n",
        "print(data)\n"
      ]
    },
    {
      "cell_type": "code",
      "execution_count": null,
      "metadata": {
        "id": "DGpMpTxvvZWM"
      },
      "outputs": [],
      "source": [
        "import torch\n",
        "import torch.nn as nn\n",
        "import torch.optim as optim\n",
        "from torch_geometric.data import Data, DataLoader\n",
        "from torch.utils.data import random_split\n",
        "\n",
        "\n",
        "model = MolKGNN(num_node_features=3, num_kernels=16, hidden_dim=64)\n",
        "\n",
        "\n",
        "optimizer = optim.Adam(model.parameters(), lr=0.001)\n",
        "criterion = nn.BCELoss()\n",
        "\n",
        "dataset = [data]\n",
        "train_dataset, test_dataset = random_split(dataset, [len(dataset) - 1, 1])\n",
        "\n",
        "\n",
        "num_epochs = 100\n",
        "for epoch in range(num_epochs):\n",
        "    model.train()\n",
        "    total_loss = 0\n",
        "    for batch in DataLoader(train_dataset, batch_size=1):\n",
        "        optimizer.zero_grad()\n",
        "        out = model(batch.x, batch.edge_index)\n",
        "        loss = criterion(out, batch.y)\n",
        "        loss.backward()\n",
        "        optimizer.step()\n",
        "        total_loss += loss.item()\n",
        "    print(f'Epoch {epoch+1}, Loss: {total_loss}')\n",
        "\n",
        "model.eval()\n",
        "with torch.no_grad():\n",
        "    for test_data in test_dataset:\n",
        "        out = model(test_data.x, test_data.edge_index)\n",
        "        prediction = torch.round(out).item()\n",
        "        print(\"Predicted label:\", prediction)\n"
      ]
    },
    {
      "cell_type": "code",
      "execution_count": null,
      "metadata": {
        "id": "hn3KiZeWHzo_"
      },
      "outputs": [],
      "source": [
        "import torch\n",
        "from torch_geometric.data import Data\n",
        "import torch.optim as optim\n",
        "from torch_geometric.utils import from_scipy_sparse_matrix\n",
        "\n",
        "\n",
        "num_nodes = 5\n",
        "num_node_features = 10\n",
        "num_kernels = 3\n",
        "hidden_dim = 20\n",
        "\n",
        "\n",
        "x = torch.randn(num_nodes, num_node_features)\n",
        "\n",
        "\n",
        "adj_matrix = torch.ones(num_nodes, num_nodes)\n",
        "\n",
        "\n",
        "adj_matrix = adj_matrix.to_sparse()\n",
        "\n",
        "\n",
        "edge_index = from_scipy_sparse_matrix(adj_matrix)\n",
        "\n",
        "\n",
        "print(\"Edge index shape:\", edge_index.shape)\n",
        "\n",
        "data = Data(x=x, edge_index=edge_index, edge_attr=None, y=None)\n",
        "\n",
        "\n",
        "model = MolKGNN(num_node_features, num_kernels, hidden_dim)\n",
        "\n",
        "\n",
        "optimizer = optim.Adam(model.parameters(), lr=0.001)\n",
        "criterion = torch.nn.BCELoss()\n",
        "\n",
        "\n",
        "num_epochs = 100\n",
        "for epoch in range(num_epochs):\n",
        "\n",
        "    output = model(x, edge_index)\n",
        "\n",
        "\n",
        "    target = torch.randint(0, 2, (1,))\n",
        "\n",
        "\n",
        "    loss = criterion(output.squeeze(), target.float())\n",
        "\n",
        "\n",
        "    optimizer.zero_grad()\n",
        "    loss.backward()\n",
        "    optimizer.step()\n",
        "\n",
        "    print(f'Epoch {epoch+1}/{num_epochs}, Loss: {loss.item()}')\n",
        "\n",
        "print(\"Training completed!\")\n"
      ]
    },
    {
      "cell_type": "markdown",
      "metadata": {
        "id": "fjiqhhNtGasj"
      },
      "source": []
    }
  ],
  "metadata": {
    "colab": {
      "provenance": []
    },
    "kernelspec": {
      "display_name": "Python 3",
      "name": "python3"
    },
    "language_info": {
      "name": "python"
    }
  },
  "nbformat": 4,
  "nbformat_minor": 0
}
